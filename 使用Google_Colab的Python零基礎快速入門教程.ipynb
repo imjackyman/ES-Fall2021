{
  "nbformat": 4,
  "nbformat_minor": 0,
  "metadata": {
    "colab": {
      "name": "使用Google Colab的Python零基礎快速入門教程.ipynb",
      "provenance": [],
      "collapsed_sections": [],
      "authorship_tag": "ABX9TyM9BgerNL7otKmjtFLIFjEB",
      "include_colab_link": true
    },
    "kernelspec": {
      "name": "python3",
      "display_name": "Python 3"
    },
    "language_info": {
      "name": "python"
    }
  },
  "cells": [
    {
      "cell_type": "markdown",
      "metadata": {
        "id": "view-in-github",
        "colab_type": "text"
      },
      "source": [
        "<a href=\"https://colab.research.google.com/github/imjackyman/ES-Fall2021/blob/main/%E4%BD%BF%E7%94%A8Google_Colab%E7%9A%84Python%E9%9B%B6%E5%9F%BA%E7%A4%8E%E5%BF%AB%E9%80%9F%E5%85%A5%E9%96%80%E6%95%99%E7%A8%8B.ipynb\" target=\"_parent\"><img src=\"https://colab.research.google.com/assets/colab-badge.svg\" alt=\"Open In Colab\"/></a>"
      ]
    },
    {
      "cell_type": "code",
      "metadata": {
        "colab": {
          "base_uri": "https://localhost:8080/"
        },
        "id": "kGlUR8gSioju",
        "outputId": "185d9222-137b-4e5d-cd46-5593767da580"
      },
      "source": [
        "# P1101\n",
        "ts3 = 'TA Grace' # Please input your English name\n",
        "!python --version #  Python 版本確認"
      ],
      "execution_count": null,
      "outputs": [
        {
          "output_type": "stream",
          "name": "stdout",
          "text": [
            "Python 3.7.12\n"
          ]
        }
      ]
    },
    {
      "cell_type": "code",
      "metadata": {
        "colab": {
          "base_uri": "https://localhost:8080/"
        },
        "id": "di2PwP-Ki8wa",
        "outputId": "4a55c67b-0b8b-4e52-f933-e25a761f8842"
      },
      "source": [
        "# P1102 載入Python calendar模組, 輸出月曆\n",
        "import calendar\n",
        "print(calendar.calendar(2021))"
      ],
      "execution_count": null,
      "outputs": [
        {
          "output_type": "stream",
          "name": "stdout",
          "text": [
            "                                  2021\n",
            "\n",
            "      January                   February                   March\n",
            "Mo Tu We Th Fr Sa Su      Mo Tu We Th Fr Sa Su      Mo Tu We Th Fr Sa Su\n",
            "             1  2  3       1  2  3  4  5  6  7       1  2  3  4  5  6  7\n",
            " 4  5  6  7  8  9 10       8  9 10 11 12 13 14       8  9 10 11 12 13 14\n",
            "11 12 13 14 15 16 17      15 16 17 18 19 20 21      15 16 17 18 19 20 21\n",
            "18 19 20 21 22 23 24      22 23 24 25 26 27 28      22 23 24 25 26 27 28\n",
            "25 26 27 28 29 30 31                                29 30 31\n",
            "\n",
            "       April                      May                       June\n",
            "Mo Tu We Th Fr Sa Su      Mo Tu We Th Fr Sa Su      Mo Tu We Th Fr Sa Su\n",
            "          1  2  3  4                      1  2          1  2  3  4  5  6\n",
            " 5  6  7  8  9 10 11       3  4  5  6  7  8  9       7  8  9 10 11 12 13\n",
            "12 13 14 15 16 17 18      10 11 12 13 14 15 16      14 15 16 17 18 19 20\n",
            "19 20 21 22 23 24 25      17 18 19 20 21 22 23      21 22 23 24 25 26 27\n",
            "26 27 28 29 30            24 25 26 27 28 29 30      28 29 30\n",
            "                          31\n",
            "\n",
            "        July                     August                  September\n",
            "Mo Tu We Th Fr Sa Su      Mo Tu We Th Fr Sa Su      Mo Tu We Th Fr Sa Su\n",
            "          1  2  3  4                         1             1  2  3  4  5\n",
            " 5  6  7  8  9 10 11       2  3  4  5  6  7  8       6  7  8  9 10 11 12\n",
            "12 13 14 15 16 17 18       9 10 11 12 13 14 15      13 14 15 16 17 18 19\n",
            "19 20 21 22 23 24 25      16 17 18 19 20 21 22      20 21 22 23 24 25 26\n",
            "26 27 28 29 30 31         23 24 25 26 27 28 29      27 28 29 30\n",
            "                          30 31\n",
            "\n",
            "      October                   November                  December\n",
            "Mo Tu We Th Fr Sa Su      Mo Tu We Th Fr Sa Su      Mo Tu We Th Fr Sa Su\n",
            "             1  2  3       1  2  3  4  5  6  7             1  2  3  4  5\n",
            " 4  5  6  7  8  9 10       8  9 10 11 12 13 14       6  7  8  9 10 11 12\n",
            "11 12 13 14 15 16 17      15 16 17 18 19 20 21      13 14 15 16 17 18 19\n",
            "18 19 20 21 22 23 24      22 23 24 25 26 27 28      20 21 22 23 24 25 26\n",
            "25 26 27 28 29 30 31      29 30                     27 28 29 30 31\n",
            "\n"
          ]
        }
      ]
    },
    {
      "cell_type": "code",
      "metadata": {
        "colab": {
          "base_uri": "https://localhost:8080/"
        },
        "id": "5yw7y75UjXji",
        "outputId": "3616f266-cd50-4891-b3c3-914e92a80046"
      },
      "source": [
        "# P1103\n",
        "from math import pi\n",
        "print(pi)\n",
        "print('pi= ', pi)\n",
        "print('pi= %.6f' % pi)\n",
        "print('pi= %.3f' % pi)\n",
        "print('pi= %.2f' % pi)\n",
        "print('pi= %d' % pi)\n"
      ],
      "execution_count": null,
      "outputs": [
        {
          "output_type": "stream",
          "name": "stdout",
          "text": [
            "3.141592653589793\n",
            "pi=  3.141592653589793\n",
            "pi= 3.141593\n",
            "pi= 3.142\n",
            "pi= 3.14\n",
            "pi= 3\n"
          ]
        }
      ]
    },
    {
      "cell_type": "code",
      "metadata": {
        "colab": {
          "base_uri": "https://localhost:8080/"
        },
        "id": "V0clF_WYjb3a",
        "outputId": "3d498dc6-4180-41f5-be0f-64e7183c9c62"
      },
      "source": [
        "# P1104\n",
        "print('學AI真是太酷了!!') #print顯示的內容必須是字串或是變數"
      ],
      "execution_count": null,
      "outputs": [
        {
          "output_type": "stream",
          "name": "stdout",
          "text": [
            "學AI真是太酷了!!\n"
          ]
        }
      ]
    },
    {
      "cell_type": "code",
      "metadata": {
        "colab": {
          "base_uri": "https://localhost:8080/"
        },
        "id": "QwOxcwQDjwTr",
        "outputId": "d90f60ed-e4ce-4d29-84c5-e064edd1029b"
      },
      "source": [
        "# P1105\n",
        "x = 3\n",
        "print(x, x+x, x*x)\n"
      ],
      "execution_count": null,
      "outputs": [
        {
          "output_type": "stream",
          "name": "stdout",
          "text": [
            "3 6 9\n"
          ]
        }
      ]
    },
    {
      "cell_type": "code",
      "metadata": {
        "id": "RokPfN_Lj1aK",
        "colab": {
          "base_uri": "https://localhost:8080/"
        },
        "outputId": "104682d6-1589-4cf5-a994-a74ef13ab35c"
      },
      "source": [
        "# P1106\n",
        "print(x + 1)   # 加法,Addition\n",
        "print(x - 1)   # 減法,Subtraction\n",
        "print(x * 2)   # 乘法,Multiplication\n",
        "print(x ** 2)  # 指數,Exponentiation (3*3=9)"
      ],
      "execution_count": null,
      "outputs": [
        {
          "output_type": "stream",
          "name": "stdout",
          "text": [
            "4\n",
            "2\n",
            "6\n",
            "9\n"
          ]
        }
      ]
    },
    {
      "cell_type": "code",
      "metadata": {
        "id": "xnTa6YORj4Pi",
        "colab": {
          "base_uri": "https://localhost:8080/"
        },
        "outputId": "7a649535-e378-464a-b3f0-b5321618ed7e"
      },
      "source": [
        "# P1107\n",
        "print(x % 2)   # 取餘數, 3%2=1, 5%3=2\n",
        "print(x/2)     # 除法\n",
        "print(x//2)     # 整數除法\n",
        "print(x//4)"
      ],
      "execution_count": null,
      "outputs": [
        {
          "output_type": "stream",
          "name": "stdout",
          "text": [
            "1\n",
            "1.5\n",
            "1\n",
            "0\n"
          ]
        }
      ]
    },
    {
      "cell_type": "code",
      "metadata": {
        "colab": {
          "base_uri": "https://localhost:8080/"
        },
        "id": "2CwZWn-Xk4ZC",
        "outputId": "34f84b24-1888-4878-ee97-f987611505ca"
      },
      "source": [
        "### 實作1110\n",
        "x = 2\n",
        "y = x + 5\n",
        "z = x * y\n",
        "a = x - 3\n",
        "b = 2**10\n",
        "print(x, y, z, a, b)\n",
        "print('x=%d, y=%d, z=%d, a=%d, b=%d' % (x, y, z, a, b))"
      ],
      "execution_count": 12,
      "outputs": [
        {
          "output_type": "stream",
          "name": "stdout",
          "text": [
            "2 7 14 -1 1024\n",
            "x=2, y=7, z=14, a=-1, b=1024\n"
          ]
        }
      ]
    },
    {
      "cell_type": "code",
      "metadata": {
        "colab": {
          "base_uri": "https://localhost:8080/"
        },
        "id": "GoNSR17Vk6Zp",
        "outputId": "e9eee41c-a1ee-48d3-871b-c2a071b393f0"
      },
      "source": [
        "# P1108\n",
        "x = 2\n",
        "x += 1 # x = x + 1\n",
        "print(x)\n",
        "x *= 2 # x = x * 2 (i.e., x = 3*2 = 6)\n",
        "print(x)\n"
      ],
      "execution_count": 13,
      "outputs": [
        {
          "output_type": "stream",
          "name": "stdout",
          "text": [
            "3\n",
            "6\n"
          ]
        }
      ]
    },
    {
      "cell_type": "code",
      "metadata": {
        "colab": {
          "base_uri": "https://localhost:8080/"
        },
        "id": "QioOxgNRk8Ex",
        "outputId": "53fed975-6508-406a-dffc-a23db06cd3bc"
      },
      "source": [
        "### 實作1120\n",
        "x = 2\n",
        "x = x + 1 \n",
        "\n",
        "print('x=x+1, x=?', x)\n"
      ],
      "execution_count": 14,
      "outputs": [
        {
          "output_type": "stream",
          "name": "stdout",
          "text": [
            "x=x+1, x=? 3\n"
          ]
        }
      ]
    },
    {
      "cell_type": "code",
      "metadata": {
        "colab": {
          "base_uri": "https://localhost:8080/"
        },
        "id": "Q8bEPFf3k9Oq",
        "outputId": "d92c5981-bc51-4e3b-b3a9-c43fcbff0943"
      },
      "source": [
        "### 實作1121\n",
        "\n",
        "x = 2\n",
        "x += 1 # x = x + 1\n",
        "print('x += 1, x=?', x)\n",
        "x *= 2 # x = x * 2 (i.e., x = 3*2 = 6)\n",
        "print('x *= 2, x=?', x)\n"
      ],
      "execution_count": 15,
      "outputs": [
        {
          "output_type": "stream",
          "name": "stdout",
          "text": [
            "x += 1, x=? 3\n",
            "x *= 2, x=? 6\n"
          ]
        }
      ]
    },
    {
      "cell_type": "code",
      "metadata": {
        "colab": {
          "base_uri": "https://localhost:8080/"
        },
        "id": "KM1H2Q2Qk_CB",
        "outputId": "e6b6ea63-1623-43fe-eb3a-7dbe961f6ef0"
      },
      "source": [
        "\"\"\"### python 的內建型態主要分為以下三種：\n",
        "\n",
        "1. 數值型態：整數 int, 浮點數 float, 布林 bool\n",
        "2. 字串型態：字串 str, 字元 chr\n",
        "3. 容器型態：串列 list[], 字典 dict{}, 序對 Tuple(), 集合 Set{}\n",
        "\n",
        "[重要] python變數:區分大小寫、不可以數字開頭!!\n",
        "\"\"\"\n",
        "\n",
        "# P1110\n",
        "y = 2.5\n",
        "print(type(y)) # Show data type by \"type()\"\n",
        "print(y, y + 1, y * 2, y ** 2) # Easy calculation\n"
      ],
      "execution_count": 16,
      "outputs": [
        {
          "output_type": "stream",
          "name": "stdout",
          "text": [
            "<class 'float'>\n",
            "2.5 3.5 5.0 6.25\n"
          ]
        }
      ]
    },
    {
      "cell_type": "code",
      "metadata": {
        "colab": {
          "base_uri": "https://localhost:8080/"
        },
        "id": "u9_SHzBYlDda",
        "outputId": "f8257ffc-d29f-47dc-808c-fcac54318130"
      },
      "source": [
        "### 實作1130: check data type\n",
        "\n",
        "x = 2\n",
        "print('x=2, type=?', type(x))\n",
        "\n",
        "y = 2.5\n",
        "print('y=2.5 type=?', type(y))\n",
        "\n",
        "z = 'hello'\n",
        "print('z=hello, typ=?', type(z))"
      ],
      "execution_count": 17,
      "outputs": [
        {
          "output_type": "stream",
          "name": "stdout",
          "text": [
            "x=2, type=? <class 'int'>\n",
            "y=2.5 type=? <class 'float'>\n",
            "z=hello, typ=? <class 'str'>\n"
          ]
        }
      ]
    },
    {
      "cell_type": "code",
      "metadata": {
        "colab": {
          "base_uri": "https://localhost:8080/"
        },
        "id": "1-8RH-S5lFty",
        "outputId": "a1209ac5-644c-46cf-c7c0-194e5be6134c"
      },
      "source": [
        "\"\"\"### 變數不能使用指令/關鍵字/數字開頭: Python的保留字有哪些? 直接問python吧!\"\"\"\n",
        "\n",
        "# P1112A\n",
        "import keyword\n",
        "print(keyword.kwlist,end='')"
      ],
      "execution_count": 18,
      "outputs": [
        {
          "output_type": "stream",
          "name": "stdout",
          "text": [
            "['False', 'None', 'True', 'and', 'as', 'assert', 'async', 'await', 'break', 'class', 'continue', 'def', 'del', 'elif', 'else', 'except', 'finally', 'for', 'from', 'global', 'if', 'import', 'in', 'is', 'lambda', 'nonlocal', 'not', 'or', 'pass', 'raise', 'return', 'try', 'while', 'with', 'yield']"
          ]
        }
      ]
    },
    {
      "cell_type": "code",
      "metadata": {
        "colab": {
          "base_uri": "https://localhost:8080/"
        },
        "id": "yYs1esyOlTnS",
        "outputId": "4a3dc587-06fe-41f9-8ada-fd1cb8c1aebb"
      },
      "source": [
        "# P1112B\n",
        "tand = 1\n",
        "print(tand)"
      ],
      "execution_count": 26,
      "outputs": [
        {
          "output_type": "stream",
          "name": "stdout",
          "text": [
            "1\n"
          ]
        }
      ]
    },
    {
      "cell_type": "code",
      "metadata": {
        "colab": {
          "base_uri": "https://localhost:8080/"
        },
        "id": "SwK1sTzklO5a",
        "outputId": "40a76256-ee0d-4453-870e-e425f2f34e57"
      },
      "source": [
        "# P1113 常用輸入輸出\n",
        "id =\"A1234567\"\n",
        "name = input(\"請輸入姓名\") #可加註解\n",
        "print(\"Hello ~ \",id+name)"
      ],
      "execution_count": 20,
      "outputs": [
        {
          "output_type": "stream",
          "name": "stdout",
          "text": [
            "請輸入姓名owen\n",
            "Hello ~  A1234567owen\n"
          ]
        }
      ]
    },
    {
      "cell_type": "code",
      "metadata": {
        "colab": {
          "base_uri": "https://localhost:8080/"
        },
        "id": "QhTx25wyla1a",
        "outputId": "933d64b4-13c4-43fb-91b0-e6628be78bb6"
      },
      "source": [
        "\"\"\"### 重要: 縮進:迴圈類、函數、邏輯判斷等..使用 2 or 4 空格(tab)統一使用4\n",
        "\n",
        "比較運算符號 包括 <、<=、>、>=、==、!=\n",
        "\"\"\"\n",
        "\n",
        "# P1114 if判斷很常用，條件成立才執行\n",
        "\n",
        "x = 7\n",
        "check = (x >= 5)\n",
        "print('check ?,', check)\n",
        "if check:\n",
        "  print(x,\"> 5 \\n\") #迴圈內指令前方要縮進\n",
        "  print(x,'> 5, %s\\n' % check) #迴圈內指令前方要縮進    \n",
        "\n",
        "#雙向if 條件成立~執行，不成立~就執行另一個\n",
        "if 0:  #在python世界裡 1不只是1，還具有 True、真、成立\n",
        "    print(True)\n",
        "else:\n",
        "    print(False) #0不只是0，還具有 False、偽、不成立"
      ],
      "execution_count": 28,
      "outputs": [
        {
          "output_type": "stream",
          "name": "stdout",
          "text": [
            "check ?, True\n",
            "7 > 5 \n",
            "\n",
            "7 > 5, True\n",
            "\n",
            "False\n"
          ]
        }
      ]
    },
    {
      "cell_type": "code",
      "metadata": {
        "colab": {
          "base_uri": "https://localhost:8080/"
        },
        "id": "hgYFJujQl7J6",
        "outputId": "cf63f699-aa6f-414b-b460-71e63a6844e1"
      },
      "source": [
        "### 實作1135, 請修正以上的Bug\n",
        "\n",
        "x = 7\n",
        "check = (x >= 5)\n",
        "print('check ?,', check)\n",
        "if check:\n",
        "  print(x,\"> 5 \\n\") #迴圈內指令前方要縮進\n",
        "  print(x,'> 5, %s\\n' % check) #迴圈內指令前方要縮進 (Tab)   \n"
      ],
      "execution_count": 27,
      "outputs": [
        {
          "output_type": "stream",
          "name": "stdout",
          "text": [
            "check ?, True\n",
            "7 > 5 \n",
            "\n",
            "7 > 5, True\n",
            "\n"
          ]
        }
      ]
    },
    {
      "cell_type": "code",
      "metadata": {
        "colab": {
          "base_uri": "https://localhost:8080/"
        },
        "id": "2Bl4AP2Kl_-K",
        "outputId": "c58dc8fc-03b0-4c4e-9ecd-81a7447ef0c3"
      },
      "source": [
        "#雙向if 條件成立~執行，不成立~就執行另一個\n",
        "if 0:  #在python世界裡 1不只是1，還具有 True、真、成立\n",
        "    print(True)\n",
        "else:\n",
        "    print(False) #0不只是0，還具有 False、偽、不成立\n"
      ],
      "execution_count": 29,
      "outputs": [
        {
          "output_type": "stream",
          "name": "stdout",
          "text": [
            "False\n"
          ]
        }
      ]
    },
    {
      "cell_type": "code",
      "metadata": {
        "colab": {
          "base_uri": "https://localhost:8080/"
        },
        "id": "jdm3C_VGmECK",
        "outputId": "35a31372-155a-4097-d5f5-4ebff42a1a49"
      },
      "source": [
        "# P1114a\n",
        "a = 33\n",
        "b = 200\n",
        "if b > a:\n",
        "  print(\"b is greater than a\") # you will get an error\n",
        "\n",
        "a = 33\n",
        "b = 33\n",
        "if b > a:\n",
        "  print(\"b > a\")\n",
        "elif a == b:\n",
        "  print(\"a == b\")\n",
        "else:\n",
        "  print(\"a > b\")"
      ],
      "execution_count": 31,
      "outputs": [
        {
          "output_type": "stream",
          "name": "stdout",
          "text": [
            "b is greater than a\n",
            "a == b\n"
          ]
        }
      ]
    },
    {
      "cell_type": "code",
      "metadata": {
        "colab": {
          "base_uri": "https://localhost:8080/"
        },
        "id": "mlbml-O-mGXC",
        "outputId": "37d5b7f7-2d47-4ca0-f27e-c057eff8f5f6"
      },
      "source": [
        "\"\"\"####布林邏輯\n",
        "\n",
        "Python implements all of the usual operators for Boolean logic, but uses English words rather than symbols (`&&`, `||`, etc.):\n",
        "\"\"\"\n",
        "\n",
        "# P1115\n",
        "print(\"***** 布林邏輯 *****\")\n",
        "one = 1\n",
        "two = 2\n",
        "three = 3\n",
        "\n",
        "print('one > 0: ', one > 0)\n",
        "print('two > one:',two > one)\n",
        "print('three < one:', three < one)"
      ],
      "execution_count": 32,
      "outputs": [
        {
          "output_type": "stream",
          "name": "stdout",
          "text": [
            "***** 布林邏輯 *****\n",
            "one > 0:  True\n",
            "two > one: True\n",
            "three < one: False\n"
          ]
        }
      ]
    },
    {
      "cell_type": "code",
      "metadata": {
        "colab": {
          "base_uri": "https://localhost:8080/"
        },
        "id": "IPevV_FxmIWa",
        "outputId": "7e2ab007-1b7f-4064-b8ce-f73e046ce84e"
      },
      "source": [
        "# P1116\n",
        "t = True\n",
        "f = False\n",
        "print(t and f) # Logical AND;\n",
        "print(t or f)  # Logical OR;\n",
        "print(not t)   # Logical NOT;\n",
        "print(t != f)  # Logical XOR;\n"
      ],
      "execution_count": 33,
      "outputs": [
        {
          "output_type": "stream",
          "name": "stdout",
          "text": [
            "False\n",
            "True\n",
            "False\n",
            "True\n"
          ]
        }
      ]
    },
    {
      "cell_type": "code",
      "metadata": {
        "colab": {
          "base_uri": "https://localhost:8080/"
        },
        "id": "PesUGE1umKAa",
        "outputId": "8eda05d6-0fff-426c-bb03-c305d5b0d554"
      },
      "source": [
        "### 實作1140\n",
        "ans1 = (two == three) # == = = + =\n",
        "ans2 = (two != three)\n",
        "ans3 = (two > three)\n",
        "ans4 = (two < three)\n",
        "\n",
        "print(\"ans1, ans2, ans3, ans4 =\", ans1, ans2, ans3, ans4, '\\n')\n",
        "print(\"ans1, ans2, ans3, ans4 =\", ans1, ans2, ans3, ans4)\n",
        "print(\"ans1 = %s, ans2 = %s, ans3 = %s, ans4 = %s\" % (ans1, ans2, ans3, ans4), '\\n')\n",
        "\n",
        "ans5 = ans2 and ans4\n",
        "print('ans2 and ans4 = ans5:', ans2, ans4, ans5)\n"
      ],
      "execution_count": 34,
      "outputs": [
        {
          "output_type": "stream",
          "name": "stdout",
          "text": [
            "ans1, ans2, ans3, ans4 = False True False True \n",
            "\n",
            "ans1, ans2, ans3, ans4 = False True False True\n",
            "ans1 = False, ans2 = True, ans3 = False, ans4 = True \n",
            "\n",
            "ans2 and ans4 = ans5: True True True\n"
          ]
        }
      ]
    },
    {
      "cell_type": "code",
      "metadata": {
        "colab": {
          "base_uri": "https://localhost:8080/"
        },
        "id": "2TLw38LqmLjq",
        "outputId": "308048cd-8e3b-4025-be02-0ea0d1fea6be"
      },
      "source": [
        "# P1117\n",
        "f = 3\n",
        "g = 3.0000 \n",
        "if f==g: #判斷要使用==\n",
        "    print(\"是的\")\n",
        "else:\n",
        "    print(\"才不是哩\")"
      ],
      "execution_count": 36,
      "outputs": [
        {
          "output_type": "stream",
          "name": "stdout",
          "text": [
            "是的\n"
          ]
        }
      ]
    },
    {
      "cell_type": "code",
      "metadata": {
        "colab": {
          "base_uri": "https://localhost:8080/",
          "height": 53
        },
        "id": "AMHgIb2DmOny",
        "outputId": "2dd72e5c-2b8d-435a-f556-60eb0f7eedb8"
      },
      "source": [
        "### 實作1145: 讓我們一起來除錯吧! (SyntaxError: invalid syntax)\n",
        "f = 3\n",
        "g = 3.0000 \n",
        "if f==g: #判斷要使用 == \n",
        "    print(\"是的\")\n",
        "else:\n",
        "    print(\"才不是哩\")\n",
        "\n",
        "\"\"\"####字串(Strings)\"\"\"\n"
      ],
      "execution_count": 37,
      "outputs": [
        {
          "output_type": "stream",
          "name": "stdout",
          "text": [
            "是的\n"
          ]
        },
        {
          "output_type": "execute_result",
          "data": {
            "application/vnd.google.colaboratory.intrinsic+json": {
              "type": "string"
            },
            "text/plain": [
              "'####字串(Strings)'"
            ]
          },
          "metadata": {},
          "execution_count": 37
        }
      ]
    },
    {
      "cell_type": "code",
      "metadata": {
        "colab": {
          "base_uri": "https://localhost:8080/"
        },
        "id": "UvI4A3fimP_y",
        "outputId": "9584905e-68ee-48a4-f821-0fbe0e2b52e4"
      },
      "source": [
        "# P1118\n",
        "hello = '**hello** '   # String literals can use single quotes\n",
        "world = \"++world++\"   # or double quotes; it does not matter\n",
        "print(hello, len(hello))\n",
        "print(world, len(world))\n",
        "\n",
        "hh = 'hello world'\n",
        "print('hello world', len(hh))"
      ],
      "execution_count": 38,
      "outputs": [
        {
          "output_type": "stream",
          "name": "stdout",
          "text": [
            "**hello**  10\n",
            "++world++ 9\n",
            "hello world 11\n"
          ]
        }
      ]
    },
    {
      "cell_type": "code",
      "metadata": {
        "colab": {
          "base_uri": "https://localhost:8080/"
        },
        "id": "dxBITGMzmT0q",
        "outputId": "aac36b3b-bd8a-423a-cc05-506efdf66a44"
      },
      "source": [
        "# P1119\n",
        "\n",
        "hw = hello + world  # 字符串連接 (String concatenation)\n",
        "print(hw)\n",
        "\n",
        "hw = hello + ' ' + world  # 字符串連接 (String concatenation)\n",
        "print(hw)\n",
        "\n",
        "print('%s %s' % (hello, world))"
      ],
      "execution_count": 39,
      "outputs": [
        {
          "output_type": "stream",
          "name": "stdout",
          "text": [
            "**hello** ++world++\n",
            "**hello**  ++world++\n",
            "**hello**  ++world++\n"
          ]
        }
      ]
    },
    {
      "cell_type": "code",
      "metadata": {
        "colab": {
          "base_uri": "https://localhost:8080/"
        },
        "id": "hRQ36V33mVGa",
        "outputId": "22e869e1-8ffd-491c-88a1-46c2e76733e3"
      },
      "source": [
        "# P1120\n",
        "hw12 = '{} {} {}'.format(hello, world, 12)  # string formatting\n",
        "print(hw12)"
      ],
      "execution_count": 40,
      "outputs": [
        {
          "output_type": "stream",
          "name": "stdout",
          "text": [
            "**hello**  ++world++ 12\n"
          ]
        }
      ]
    },
    {
      "cell_type": "code",
      "metadata": {
        "colab": {
          "base_uri": "https://localhost:8080/"
        },
        "id": "nnZB9P26mXo6",
        "outputId": "dc9c84c2-a94e-4393-a678-00525e4ea314"
      },
      "source": [
        "### 實作1150\n",
        "wh = world + ' ' + hello\n",
        "print(wh)\n",
        "\n",
        "hw12 = '{} {} {}'.format(hello, world, 12)  # string formatting\n",
        "\n",
        "print(hw12)\n",
        "\n",
        "hw13 =('%s %s %d' %(hello, world, 12))  # string formatting\n",
        "\n",
        "print(hw13)\n"
      ],
      "execution_count": 41,
      "outputs": [
        {
          "output_type": "stream",
          "name": "stdout",
          "text": [
            "++world++ **hello** \n",
            "**hello**  ++world++ 12\n",
            "**hello**  ++world++ 12\n"
          ]
        }
      ]
    },
    {
      "cell_type": "code",
      "metadata": {
        "colab": {
          "base_uri": "https://localhost:8080/"
        },
        "id": "w2jevPJSmaCa",
        "outputId": "a282ea42-7099-4dda-ebd2-ab6501a6dab2"
      },
      "source": [
        "\"\"\"String objects have a bunch of useful methods; for example:\"\"\"\n",
        "\n",
        "# P1121\n",
        "s1 = 'hello'\n",
        "s2 = '  world '\n",
        "print(s1.capitalize())  # 將字符串大寫\n",
        "print(s1.upper())       # 將字符串全部轉換為大寫\n",
        "print(s1.replace('l', '*'))  # 用另一個替換一個子字符串\n",
        "print(len(s2), s2.strip(), len(s2.strip()))  # 去除前導和尾隨空格"
      ],
      "execution_count": 42,
      "outputs": [
        {
          "output_type": "stream",
          "name": "stdout",
          "text": [
            "Hello\n",
            "HELLO\n",
            "he**o\n",
            "8 world 5\n"
          ]
        }
      ]
    },
    {
      "cell_type": "code",
      "metadata": {
        "colab": {
          "base_uri": "https://localhost:8080/"
        },
        "id": "fP9oFERGmcQa",
        "outputId": "5ddb7d68-104e-4839-b7ae-4d8667885412"
      },
      "source": [
        "### 實作1160\n",
        "s11 = 'good morning'\n",
        "s12 = '  WORLD aaa AAA'\n",
        "s13 = 'good#####moring'\n",
        "print(s11.capitalize())\n",
        "print(s11.upper())\n",
        "print(s12.replace(\"L\",'***'))\n",
        "print(s12.replace(\"RL\",'-----'))\n",
        "print(len(s12), s12.strip(), len(s12.strip())) \n",
        "print(s12.lower())\n",
        "print(s13, s13.replace('#####',' '))\n"
      ],
      "execution_count": 43,
      "outputs": [
        {
          "output_type": "stream",
          "name": "stdout",
          "text": [
            "Good morning\n",
            "GOOD MORNING\n",
            "  WOR***D aaa AAA\n",
            "  WO-----D aaa AAA\n",
            "15 WORLD aaa AAA 13\n",
            "  world aaa aaa\n",
            "good#####moring good moring\n"
          ]
        }
      ]
    },
    {
      "cell_type": "code",
      "metadata": {
        "colab": {
          "base_uri": "https://localhost:8080/"
        },
        "id": "yCEcHwD8meoz",
        "outputId": "4ac77b5e-3e6b-46ea-df99-35c8edc479ca"
      },
      "source": [
        "\"\"\"###容器：Python常用內置容器類型：列表(list)、字典(dictionary)\n",
        "\n",
        "####Lists\n",
        "\n",
        "列表(List)是數組的 Python 等價物，但可以調整大小並且可以包含不同類型的元素：\n",
        "\"\"\"\n",
        "\n",
        "# P1122\n",
        "xs = [3, 2, 1]   # 創立一個List\n",
        "print(xs)\n",
        "print(xs[2])\n",
        "print(xs[0])\n",
        "print(xs[-1])     \n",
        "print(xs[-2])\n",
        "print(xs[-3])\n",
        "print(\"Size = ? Ans: \", len(xs))"
      ],
      "execution_count": 44,
      "outputs": [
        {
          "output_type": "stream",
          "name": "stdout",
          "text": [
            "[3, 2, 1]\n",
            "1\n",
            "3\n",
            "1\n",
            "2\n",
            "3\n",
            "Size = ? Ans:  3\n"
          ]
        }
      ]
    },
    {
      "cell_type": "code",
      "metadata": {
        "colab": {
          "base_uri": "https://localhost:8080/"
        },
        "id": "X0RGUT9AmgVq",
        "outputId": "e06a4940-5393-4e4d-de3d-7ecf3ba51a53"
      },
      "source": [
        "### 實作1171\n",
        "\n",
        "ss = [10, 20, 30, 40, 50, 'hello', 'world']\n",
        "print(ss)\n",
        "\n",
        "print(ss[0])\n",
        "print(ss[-1])\n",
        "print(ss[1])\n",
        "print(ss[4])\n",
        "\n",
        "print('Size =?, Ans:', len(ss))\n"
      ],
      "execution_count": 45,
      "outputs": [
        {
          "output_type": "stream",
          "name": "stdout",
          "text": [
            "[10, 20, 30, 40, 50, 'hello', 'world']\n",
            "10\n",
            "world\n",
            "20\n",
            "50\n",
            "Size =?, Ans: 7\n"
          ]
        }
      ]
    },
    {
      "cell_type": "code",
      "metadata": {
        "colab": {
          "base_uri": "https://localhost:8080/"
        },
        "id": "85NVK3mfmhtr",
        "outputId": "6e178e7a-06aa-41b5-8a2a-f3e54b3a24f9"
      },
      "source": [
        "# for idx, animal in enumerate(animals):\n",
        "for box_number, box_content in enumerate(ss):\n",
        "  print(box_number, box_content)\n"
      ],
      "execution_count": 46,
      "outputs": [
        {
          "output_type": "stream",
          "name": "stdout",
          "text": [
            "0 10\n",
            "1 20\n",
            "2 30\n",
            "3 40\n",
            "4 50\n",
            "5 hello\n",
            "6 world\n"
          ]
        }
      ]
    },
    {
      "cell_type": "code",
      "metadata": {
        "colab": {
          "base_uri": "https://localhost:8080/"
        },
        "id": "vNzT4marmix8",
        "outputId": "3c978af4-01b9-4d3c-b0c7-b120886205c7"
      },
      "source": [
        "# P1123\n",
        "xs = [10, 20, 30, 40, 50] \n",
        "xs[2] = 'cat'    # 列表可以包含不同類型的元素\n",
        "print(xs)\n"
      ],
      "execution_count": 47,
      "outputs": [
        {
          "output_type": "stream",
          "name": "stdout",
          "text": [
            "[10, 20, 'cat', 40, 50]\n"
          ]
        }
      ]
    },
    {
      "cell_type": "code",
      "metadata": {
        "colab": {
          "base_uri": "https://localhost:8080/"
        },
        "id": "PC7DK64Kmj05",
        "outputId": "88631321-e872-4a82-abcd-9408faedf9ac"
      },
      "source": [
        "### 實作1172\n",
        "xs[2]='dog'\n",
        "print(xs)"
      ],
      "execution_count": 48,
      "outputs": [
        {
          "output_type": "stream",
          "name": "stdout",
          "text": [
            "[10, 20, 'dog', 40, 50]\n"
          ]
        }
      ]
    },
    {
      "cell_type": "code",
      "metadata": {
        "colab": {
          "base_uri": "https://localhost:8080/"
        },
        "id": "2xFWYUqumlI5",
        "outputId": "a2da2898-09d6-4249-9020-3ac96aca5b53"
      },
      "source": [
        "# P1124\n",
        "xs.append('fish') # 在列表末尾添加一個新元素\n",
        "print(xs)  \n",
        "print(len(xs))"
      ],
      "execution_count": 49,
      "outputs": [
        {
          "output_type": "stream",
          "name": "stdout",
          "text": [
            "[10, 20, 'dog', 40, 50, 'fish']\n",
            "6\n"
          ]
        }
      ]
    },
    {
      "cell_type": "code",
      "metadata": {
        "colab": {
          "base_uri": "https://localhost:8080/"
        },
        "id": "_wPWk0q7mmUa",
        "outputId": "2ca72844-d83a-4db3-b3d8-7104832b1bc1"
      },
      "source": [
        "### 實作1173\n",
        "\n",
        "xs.append('bird') # 在列表末尾添加一個新元素\n",
        "print(xs)  \n",
        "print(len(xs))"
      ],
      "execution_count": 50,
      "outputs": [
        {
          "output_type": "stream",
          "name": "stdout",
          "text": [
            "[10, 20, 'dog', 40, 50, 'fish', 'bird']\n",
            "7\n"
          ]
        }
      ]
    },
    {
      "cell_type": "code",
      "metadata": {
        "colab": {
          "base_uri": "https://localhost:8080/"
        },
        "id": "OUx8GCVLmnWS",
        "outputId": "de61b97d-b725-484a-ed8b-b0e1717c2c92"
      },
      "source": [
        "# P1125\n",
        "x = xs.pop()     # 刪除並返回列表的最後一個元素\n",
        "print(x, xs)"
      ],
      "execution_count": 51,
      "outputs": [
        {
          "output_type": "stream",
          "name": "stdout",
          "text": [
            "bird [10, 20, 'dog', 40, 50, 'fish']\n"
          ]
        }
      ]
    },
    {
      "cell_type": "code",
      "metadata": {
        "colab": {
          "base_uri": "https://localhost:8080/"
        },
        "id": "E2UzVaCFmomj",
        "outputId": "c3c9199b-c6fb-48f7-9335-20429f2c4926"
      },
      "source": [
        "### 實作1174\n",
        "x = xs.pop()     # 刪除並返回列表的最後一個元素\n",
        "print(x, xs)"
      ],
      "execution_count": 52,
      "outputs": [
        {
          "output_type": "stream",
          "name": "stdout",
          "text": [
            "fish [10, 20, 'dog', 40, 50]\n"
          ]
        }
      ]
    },
    {
      "cell_type": "code",
      "metadata": {
        "colab": {
          "base_uri": "https://localhost:8080/"
        },
        "id": "shmQ8F7Lmqf6",
        "outputId": "d699a509-49e2-4132-b2c2-2c8c492b6b4d"
      },
      "source": [
        "\"\"\"####Slicing: Python 還提供了簡潔的語法來訪問子列表； 這稱為切片：\"\"\"\n",
        "\n",
        "# P1126\n",
        "print(len('hello'))"
      ],
      "execution_count": 53,
      "outputs": [
        {
          "output_type": "stream",
          "name": "stdout",
          "text": [
            "5\n"
          ]
        }
      ]
    },
    {
      "cell_type": "code",
      "metadata": {
        "colab": {
          "base_uri": "https://localhost:8080/"
        },
        "id": "mFSFUyVEmrn7",
        "outputId": "23e6704e-842f-46b9-a18f-d398eaf5ff54"
      },
      "source": [
        "# P1127\n",
        "nums = 'hello'\n",
        "print(nums, len(nums))         \n",
        "print('nums[2:4] >>',nums[2:4])    \n",
        "print('nums[2:] >>',nums[2:])     \n",
        "print(nums[:2])     \n",
        "print(nums[:])      \n",
        "print('nums[:-1] >>', nums[:-1])    \n",
        "print(nums)"
      ],
      "execution_count": 54,
      "outputs": [
        {
          "output_type": "stream",
          "name": "stdout",
          "text": [
            "hello 5\n",
            "nums[2:4] >> ll\n",
            "nums[2:] >> llo\n",
            "he\n",
            "hello\n",
            "nums[:-1] >> hell\n",
            "hello\n"
          ]
        }
      ]
    },
    {
      "cell_type": "code",
      "metadata": {
        "colab": {
          "base_uri": "https://localhost:8080/"
        },
        "id": "nJmxm_KMms0y",
        "outputId": "d9797091-6b1d-414b-f680-64cc9e5e1e3e"
      },
      "source": [
        "### 實作1175\n",
        "nums = 'world'\n",
        "print(nums, len(nums))       \n",
        "print(nums[2:4])    \n",
        "print(nums[2:])     \n",
        "print(nums[:2])     \n",
        "print(nums[:])      \n",
        "print('nums[:-1] >>', nums[:-1])    \n",
        "print(nums)"
      ],
      "execution_count": 55,
      "outputs": [
        {
          "output_type": "stream",
          "name": "stdout",
          "text": [
            "world 5\n",
            "rl\n",
            "rld\n",
            "wo\n",
            "world\n",
            "nums[:-1] >> worl\n",
            "world\n"
          ]
        }
      ]
    },
    {
      "cell_type": "code",
      "metadata": {
        "colab": {
          "base_uri": "https://localhost:8080/"
        },
        "id": "X0EjRuxZmuZh",
        "outputId": "8dcef92a-0cd3-4412-a76e-74de2726aa03"
      },
      "source": [
        "### 實作1175a\n",
        "x = [0, 1, 2, 3, 4, 5]\n",
        "print(x)\n",
        "print('x[:] >> ',x[:])\n",
        "\n",
        "print(x[:3])\n",
        "\n",
        "print('x[3:] >>', x[3:])\n",
        "\n",
        "for i in range(1,10,2):\n",
        "  print(i)\n"
      ],
      "execution_count": 56,
      "outputs": [
        {
          "output_type": "stream",
          "name": "stdout",
          "text": [
            "[0, 1, 2, 3, 4, 5]\n",
            "x[:] >>  [0, 1, 2, 3, 4, 5]\n",
            "[0, 1, 2]\n",
            "x[3:] >> [3, 4, 5]\n",
            "1\n",
            "3\n",
            "5\n",
            "7\n",
            "9\n"
          ]
        }
      ]
    },
    {
      "cell_type": "code",
      "metadata": {
        "colab": {
          "base_uri": "https://localhost:8080/"
        },
        "id": "LCbtaLDNmvaS",
        "outputId": "1b5e2e4b-552b-4b77-9b59-bad35b44a08e"
      },
      "source": [
        "### Final Result\n",
        "from datetime import datetime\n",
        "today = datetime.now()\n",
        "print('*** Done by %s at ' % ts3,today, type(today))"
      ],
      "execution_count": 57,
      "outputs": [
        {
          "output_type": "stream",
          "name": "stdout",
          "text": [
            "*** Done by TA Grace at  2021-11-21 03:47:18.164744 <class 'datetime.datetime'>\n"
          ]
        }
      ]
    },
    {
      "cell_type": "code",
      "metadata": {
        "colab": {
          "base_uri": "https://localhost:8080/",
          "height": 299
        },
        "id": "kS14bRtgoZD6",
        "outputId": "ec78b595-d30b-4b23-e8c2-ab445b1a401d"
      },
      "source": [
        "# 801\n",
        "import tensorflow as tf\n",
        "import tensorflow_hub as hub\n",
        "\n",
        "import requests\n",
        "from PIL import Image\n",
        "from io import BytesIO\n",
        "\n",
        "import matplotlib.pyplot as plt\n",
        "import numpy as np\n",
        "\n",
        "from datetime import datetime\n",
        "now = datetime.now()\n",
        "print(\"now =\", now)\n",
        "today = now\n",
        "image_size = 224\n",
        "dynamic_size = False\n",
        "max_dynamic_size = 512\n",
        "\n",
        "ts3 = 'TA Grace' # Please input your English name\n",
        "\n",
        "# 802\n",
        "original_image_cache = {}\n",
        "\n",
        "def preprocess_image(image):\n",
        "  image = np.array(image)\n",
        "  # reshape into shape [batch_size, height, width, num_channels]\n",
        "  img_reshaped = tf.reshape(image, [1, image.shape[0], image.shape[1], image.shape[2]])\n",
        "  # Use `convert_image_dtype` to convert to floats in the [0,1] range.\n",
        "  image = tf.image.convert_image_dtype(img_reshaped, tf.float32)\n",
        "  return image\n",
        "\n",
        "def load_image_from_url(url):\n",
        "  \"\"\"Returns an image with shape [1, height, width, num_channels].\"\"\"\n",
        "  user_agent = {'User-agent': 'Colab Sample (https://tensorflow.org)'}\n",
        "  response = requests.get(img_url, headers=user_agent)\n",
        "  image = Image.open(BytesIO(response.content))\n",
        "  image = preprocess_image(image)\n",
        "  return image\n",
        "\n",
        "def load_image(image_url, image_size=256, dynamic_size=False, max_dynamic_size=512):\n",
        "  \"\"\"Loads and preprocesses images.\"\"\"\n",
        "  # Cache image file locally.\n",
        "  if image_url in original_image_cache:\n",
        "    img = original_image_cache[image_url]\n",
        "  elif image_url.startswith('https://'):\n",
        "    img = load_image_from_url(image_url)\n",
        "  else:\n",
        "    fd = tf.io.gfile.GFile(image_url, 'rb')\n",
        "    img = preprocess_image(Image.open(fd))\n",
        "  original_image_cache[image_url] = img\n",
        "  # Load and convert to float32 numpy array, add batch dimension, and normalize to range [0, 1].\n",
        "  img_raw = img\n",
        "  if tf.reduce_max(img) > 1.0:\n",
        "    img = img / 255.\n",
        "  if len(img.shape) == 3:\n",
        "    img = tf.stack([img, img, img], axis=-1)\n",
        "  if not dynamic_size:\n",
        "    img = tf.image.resize_with_pad(img, image_size, image_size)\n",
        "  elif img.shape[1] > max_dynamic_size or img.shape[2] > max_dynamic_size:\n",
        "    img = tf.image.resize_with_pad(img, max_dynamic_size, max_dynamic_size)\n",
        "  return img, img_raw\n",
        "\n",
        "def show_image(image, title=''):\n",
        "  image_size = image.shape[1]\n",
        "  w = (image_size * 6) // 320\n",
        "  plt.figure(figsize=(w, w))\n",
        "  plt.imshow(image[0], aspect='equal')\n",
        "  plt.axis('off')\n",
        "  plt.title(title)\n",
        "  plt.show()\n",
        "  \"\"\"## 2. 選擇圖像 \n",
        "您可以選擇以下圖像之一，或使用您自己的圖像。 請記住，模型的輸入大小各不相同，其中一些使用動態輸入大小（啟用對未縮放圖像的推斷）。 鑑於此，方法 load_image 已經將圖像重新縮放為預期格式。\n",
        "選項: ['老虎'，'公共汽車'，'汽車'，'貓'，'狗'，'蘋果'，'烏龜'，'火烈鳥'，'鋼琴'，'蜂窩'，'茶壺']\n",
        "param ['tiger', 'bus', 'car', 'cat', 'dog', 'apple', 'turtle', 'flamingo', 'piano', 'honeycomb', 'teapot']\n",
        "\"\"\"\n",
        "\n",
        "print('*** Done by %s at ' % ts3,today, type(today))\n",
        "## Demo: Show tiger\n",
        "\n",
        "image_name = 'tiger' \n",
        "\n",
        "images_for_test_map = {\n",
        "    \"tiger\": \"https://upload.wikimedia.org/wikipedia/commons/b/b0/Bengal_tiger_%28Panthera_tigris_tigris%29_female_3_crop.jpg\",\n",
        "    \"bus\": \"https://upload.wikimedia.org/wikipedia/commons/6/63/LT_471_%28LTZ_1471%29_Arriva_London_New_Routemaster_%2819522859218%29.jpg\",\n",
        "    \"car\": \"https://upload.wikimedia.org/wikipedia/commons/4/49/2013-2016_Toyota_Corolla_%28ZRE172R%29_SX_sedan_%282018-09-17%29_01.jpg\",\n",
        "    \"cat\": \"https://upload.wikimedia.org/wikipedia/commons/4/4d/Cat_November_2010-1a.jpg\",\n",
        "    \"dog\": \"https://upload.wikimedia.org/wikipedia/commons/archive/a/a9/20090914031557%21Saluki_dog_breed.jpg\",\n",
        "    \"apple\": \"https://upload.wikimedia.org/wikipedia/commons/1/15/Red_Apple.jpg\",\n",
        "    \"turtle\": \"https://upload.wikimedia.org/wikipedia/commons/8/80/Turtle_golfina_escobilla_oaxaca_mexico_claudio_giovenzana_2010.jpg\",\n",
        "    \"flamingo\": \"https://upload.wikimedia.org/wikipedia/commons/b/b8/James_Flamingos_MC.jpg\",\n",
        "    \"piano\": \"https://upload.wikimedia.org/wikipedia/commons/d/da/Steinway_%26_Sons_upright_piano%2C_model_K-132%2C_manufactured_at_Steinway%27s_factory_in_Hamburg%2C_Germany.png\",\n",
        "    \"honeycomb\": \"https://upload.wikimedia.org/wikipedia/commons/f/f7/Honey_comb.jpg\",\n",
        "    \"teapot\": \"https://upload.wikimedia.org/wikipedia/commons/4/44/Black_tea_pot_cropped.jpg\",\n",
        "}\n",
        "\n",
        "img_url = images_for_test_map[image_name]\n",
        "image, original_image = load_image(img_url, image_size, dynamic_size, max_dynamic_size)\n",
        "show_image(image, 'Scaled image')"
      ],
      "execution_count": 60,
      "outputs": [
        {
          "output_type": "stream",
          "name": "stdout",
          "text": [
            "now = 2021-11-21 03:56:35.193761\n",
            "*** Done by TA Grace at  2021-11-21 03:56:35.193761 <class 'datetime.datetime'>\n"
          ]
        },
        {
          "output_type": "display_data",
          "data": {
            "image/png": "[encoded data removed]",
            "text/plain": [
              "<Figure size 288x288 with 1 Axes>"
            ]
          },
          "metadata": {
            "needs_background": "light"
          }
        }
      ]
    }
  ]
}